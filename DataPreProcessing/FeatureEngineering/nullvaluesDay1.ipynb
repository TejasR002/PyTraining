version https://git-lfs.github.com/spec/v1
oid sha256:da0742cfd440494acd6bd19a0768aeb0ccb908c0069a0cb076153259afcb80f2
size 81275
