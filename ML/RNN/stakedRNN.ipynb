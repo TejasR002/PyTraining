{
 "cells": [
  {
   "cell_type": "code",
   "execution_count": 4,
   "metadata": {},
   "outputs": [
    {
     "data": {
      "text/plain": [
       "True"
      ]
     },
     "execution_count": 4,
     "metadata": {},
     "output_type": "execute_result"
    }
   ],
   "source": [
    "import os\n",
    "from dotenv import load_dotenv\n",
    "load_dotenv()"
   ]
  },
  {
   "cell_type": "code",
   "execution_count": 11,
   "metadata": {},
   "outputs": [
    {
     "name": "stdout",
     "output_type": "stream",
     "text": [
      "YF.download() has changed argument auto_adjust default to True\n"
     ]
    },
    {
     "name": "stderr",
     "output_type": "stream",
     "text": [
      "[*********************100%***********************]  1 of 1 completed"
     ]
    },
    {
     "name": "stdout",
     "output_type": "stream",
     "text": [
      "Price           Close       High        Low       Open     Volume\n",
      "Ticker           AAPL       AAPL       AAPL       AAPL       AAPL\n",
      "Date                                                             \n",
      "2020-01-02  72.716080  72.776606  71.466820  71.721026  135480400\n",
      "2020-01-03  72.009125  72.771752  71.783969  71.941336  146322800\n",
      "2020-01-06  72.582893  72.621631  70.876060  71.127851  118387200\n",
      "2020-01-07  72.241547  72.849224  72.021231  72.592594  108872000\n",
      "2020-01-08  73.403656  73.706287  71.943766  71.943766  132079200\n"
     ]
    },
    {
     "name": "stderr",
     "output_type": "stream",
     "text": [
      "\n"
     ]
    }
   ],
   "source": [
    "import yfinance as yf\n",
    "\n",
    "# Download Apple's historical stock data\n",
    "df = yf.download(\"AAPL\", start=\"2020-01-01\", end=\"2025-01-01\")\n",
    "\n",
    "# Display first few rows\n",
    "print(df.head())\n"
   ]
  },
  {
   "cell_type": "code",
   "execution_count": 13,
   "metadata": {},
   "outputs": [
    {
     "data": {
      "text/plain": [
       "MultiIndex([( 'Close', 'AAPL'),\n",
       "            (  'High', 'AAPL'),\n",
       "            (   'Low', 'AAPL'),\n",
       "            (  'Open', 'AAPL'),\n",
       "            ('Volume', 'AAPL')],\n",
       "           names=['Price', 'Ticker'])"
      ]
     },
     "execution_count": 13,
     "metadata": {},
     "output_type": "execute_result"
    }
   ],
   "source": [
    "df.columns"
   ]
  },
  {
   "cell_type": "code",
   "execution_count": 24,
   "metadata": {},
   "outputs": [],
   "source": [
    "X = df['Close'].reset_index()"
   ]
  },
  {
   "cell_type": "code",
   "execution_count": 25,
   "metadata": {},
   "outputs": [],
   "source": [
    "t = X.drop(columns=['Date'],axis=1)"
   ]
  },
  {
   "cell_type": "code",
   "execution_count": 26,
   "metadata": {},
   "outputs": [
    {
     "data": {
      "text/html": [
       "<div>\n",
       "<style scoped>\n",
       "    .dataframe tbody tr th:only-of-type {\n",
       "        vertical-align: middle;\n",
       "    }\n",
       "\n",
       "    .dataframe tbody tr th {\n",
       "        vertical-align: top;\n",
       "    }\n",
       "\n",
       "    .dataframe thead th {\n",
       "        text-align: right;\n",
       "    }\n",
       "</style>\n",
       "<table border=\"1\" class=\"dataframe\">\n",
       "  <thead>\n",
       "    <tr style=\"text-align: right;\">\n",
       "      <th>Ticker</th>\n",
       "      <th>AAPL</th>\n",
       "    </tr>\n",
       "  </thead>\n",
       "  <tbody>\n",
       "    <tr>\n",
       "      <th>0</th>\n",
       "      <td>72.716080</td>\n",
       "    </tr>\n",
       "    <tr>\n",
       "      <th>1</th>\n",
       "      <td>72.009125</td>\n",
       "    </tr>\n",
       "    <tr>\n",
       "      <th>2</th>\n",
       "      <td>72.582893</td>\n",
       "    </tr>\n",
       "    <tr>\n",
       "      <th>3</th>\n",
       "      <td>72.241547</td>\n",
       "    </tr>\n",
       "    <tr>\n",
       "      <th>4</th>\n",
       "      <td>73.403656</td>\n",
       "    </tr>\n",
       "    <tr>\n",
       "      <th>...</th>\n",
       "      <td>...</td>\n",
       "    </tr>\n",
       "    <tr>\n",
       "      <th>1253</th>\n",
       "      <td>257.916443</td>\n",
       "    </tr>\n",
       "    <tr>\n",
       "      <th>1254</th>\n",
       "      <td>258.735504</td>\n",
       "    </tr>\n",
       "    <tr>\n",
       "      <th>1255</th>\n",
       "      <td>255.309296</td>\n",
       "    </tr>\n",
       "    <tr>\n",
       "      <th>1256</th>\n",
       "      <td>251.923019</td>\n",
       "    </tr>\n",
       "    <tr>\n",
       "      <th>1257</th>\n",
       "      <td>250.144974</td>\n",
       "    </tr>\n",
       "  </tbody>\n",
       "</table>\n",
       "<p>1258 rows × 1 columns</p>\n",
       "</div>"
      ],
      "text/plain": [
       "Ticker        AAPL\n",
       "0        72.716080\n",
       "1        72.009125\n",
       "2        72.582893\n",
       "3        72.241547\n",
       "4        73.403656\n",
       "...            ...\n",
       "1253    257.916443\n",
       "1254    258.735504\n",
       "1255    255.309296\n",
       "1256    251.923019\n",
       "1257    250.144974\n",
       "\n",
       "[1258 rows x 1 columns]"
      ]
     },
     "execution_count": 26,
     "metadata": {},
     "output_type": "execute_result"
    }
   ],
   "source": [
    "t"
   ]
  },
  {
   "cell_type": "code",
   "execution_count": 28,
   "metadata": {},
   "outputs": [
    {
     "data": {
      "text/plain": [
       "[<matplotlib.lines.Line2D at 0x7f96c2539340>]"
      ]
     },
     "execution_count": 28,
     "metadata": {},
     "output_type": "execute_result"
    },
    {
     "data": {
      "image/png": "[encoded data removed]",
      "text/plain": [
       "<Figure size 432x288 with 1 Axes>"
      ]
     },
     "metadata": {
      "needs_background": "light"
     },
     "output_type": "display_data"
    }
   ],
   "source": [
    "import matplotlib.pyplot as plt\n",
    "plt.plot(t)"
   ]
  },
  {
   "cell_type": "code",
   "execution_count": 29,
   "metadata": {},
   "outputs": [],
   "source": [
    "import numpy as np\n",
    "from sklearn.preprocessing import MinMaxScaler\n",
    "scaler = MinMaxScaler(feature_range=(0,1))\n",
    "df1 = scaler.fit_transform(np.array(t).reshape(-1,1))"
   ]
  },
  {
   "cell_type": "code",
   "execution_count": 31,
   "metadata": {},
   "outputs": [
    {
     "data": {
      "text/plain": [
       "(1258, 1)"
      ]
     },
     "execution_count": 31,
     "metadata": {},
     "output_type": "execute_result"
    }
   ],
   "source": [
    "df1.shape"
   ]
  },
  {
   "cell_type": "markdown",
   "metadata": {},
   "source": [
    "Spliting the data into train and test split (Timeseries data)"
   ]
  },
  {
   "cell_type": "code",
   "execution_count": 32,
   "metadata": {},
   "outputs": [],
   "source": [
    "training_size = int(len(df1)*0.65)\n",
    "test_size = len(df1) - training_size\n",
    "train_data,test_data = df1[0:training_size,:],df1[training_size:len(df1),:],"
   ]
  },
  {
   "cell_type": "code",
   "execution_count": 33,
   "metadata": {},
   "outputs": [],
   "source": [
    "def create_dataset(dataset,time_step =1):\n",
    "    dataX,dataY = [],[]\n",
    "    for i in range(len(dataset)-time_step-1):\n",
    "        a = dataset[i:(i+time_step),0]\n",
    "        dataX.append(a)\n",
    "        dataY.append(dataset[i+time_step,0])\n",
    "    return np.array(dataX),np.array(dataY)\n"
   ]
  },
  {
   "cell_type": "code",
   "execution_count": 34,
   "metadata": {},
   "outputs": [],
   "source": [
    "time_step = 100\n",
    "X_train,y_train = create_dataset(train_data,time_step)\n",
    "X_test,y_test = create_dataset(test_data,time_step)"
   ]
  },
  {
   "cell_type": "code",
   "execution_count": 35,
   "metadata": {},
   "outputs": [
    {
     "name": "stdout",
     "output_type": "stream",
     "text": [
      "(340, 100)\n",
      "(340,)\n"
     ]
    },
    {
     "data": {
      "text/plain": [
       "(None, None)"
      ]
     },
     "execution_count": 35,
     "metadata": {},
     "output_type": "execute_result"
    }
   ],
   "source": [
    "print(X_test.shape),print(y_test.shape)"
   ]
  },
  {
   "cell_type": "code",
   "execution_count": 36,
   "metadata": {},
   "outputs": [],
   "source": [
    "X_train = X_train.reshape(X_train.shape[0],X_train.shape[1],1)\n",
    "X_test = X_test.reshape(X_test.shape[0],X_test.shape[1],1)"
   ]
  },
  {
   "cell_type": "code",
   "execution_count": 38,
   "metadata": {},
   "outputs": [],
   "source": [
    "from tensorflow.keras.models import  Sequential\n",
    "from tensorflow.keras.layers import Dense\n",
    "from tensorflow.keras.layers import LSTM"
   ]
  },
  {
   "cell_type": "code",
   "execution_count": 39,
   "metadata": {},
   "outputs": [],
   "source": [
    "model = Sequential()\n",
    "model.add(LSTM(50,return_sequences=True,input_shape=(100,1)))\n",
    "model.add(LSTM(50,return_sequences=True))\n",
    "model.add(LSTM(50))\n",
    "model.add(Dense(1))\n",
    "model.compile(loss='mean_squared_error',optimizer ='adam')\n"
   ]
  },
  {
   "cell_type": "code",
   "execution_count": 40,
   "metadata": {},
   "outputs": [
    {
     "name": "stdout",
     "output_type": "stream",
     "text": [
      "Model: \"sequential\"\n",
      "_________________________________________________________________\n",
      " Layer (type)                Output Shape              Param #   \n",
      "=================================================================\n",
      " lstm (LSTM)                 (None, 100, 50)           10400     \n",
      "                                                                 \n",
      " lstm_1 (LSTM)               (None, 100, 50)           20200     \n",
      "                                                                 \n",
      " lstm_2 (LSTM)               (None, 50)                20200     \n",
      "                                                                 \n",
      " dense (Dense)               (None, 1)                 51        \n",
      "                                                                 \n",
      "=================================================================\n",
      "Total params: 50851 (198.64 KB)\n",
      "Trainable params: 50851 (198.64 KB)\n",
      "Non-trainable params: 0 (0.00 Byte)\n",
      "_________________________________________________________________\n"
     ]
    }
   ],
   "source": [
    "model.summary()"
   ]
  },
  {
   "cell_type": "code",
   "execution_count": 41,
   "metadata": {},
   "outputs": [
    {
     "name": "stdout",
     "output_type": "stream",
     "text": [
      "Epoch 1/100\n",
      "12/12 [==============================] - 6s 159ms/step - loss: 0.0445 - val_loss: 0.0424\n",
      "Epoch 2/100\n",
      "12/12 [==============================] - 1s 89ms/step - loss: 0.0063 - val_loss: 0.0047\n",
      "Epoch 3/100\n",
      "12/12 [==============================] - 1s 91ms/step - loss: 0.0030 - val_loss: 0.0279\n",
      "Epoch 4/100\n",
      "12/12 [==============================] - 1s 96ms/step - loss: 0.0021 - val_loss: 0.0119\n",
      "Epoch 5/100\n",
      "12/12 [==============================] - 1s 93ms/step - loss: 0.0018 - val_loss: 0.0091\n",
      "Epoch 6/100\n",
      "12/12 [==============================] - 1s 90ms/step - loss: 0.0015 - val_loss: 0.0075\n",
      "Epoch 7/100\n",
      "12/12 [==============================] - 1s 101ms/step - loss: 0.0013 - val_loss: 0.0074\n",
      "Epoch 8/100\n",
      "12/12 [==============================] - 1s 88ms/step - loss: 0.0013 - val_loss: 0.0041\n",
      "Epoch 9/100\n",
      "12/12 [==============================] - 1s 88ms/step - loss: 0.0012 - val_loss: 0.0028\n",
      "Epoch 10/100\n",
      "12/12 [==============================] - 1s 93ms/step - loss: 0.0012 - val_loss: 0.0020\n",
      "Epoch 11/100\n",
      "12/12 [==============================] - 1s 94ms/step - loss: 0.0012 - val_loss: 0.0030\n",
      "Epoch 12/100\n",
      "12/12 [==============================] - 1s 91ms/step - loss: 0.0011 - val_loss: 0.0038\n",
      "Epoch 13/100\n",
      "12/12 [==============================] - 1s 91ms/step - loss: 0.0012 - val_loss: 0.0038\n",
      "Epoch 14/100\n",
      "12/12 [==============================] - 1s 89ms/step - loss: 0.0011 - val_loss: 0.0020\n",
      "Epoch 15/100\n",
      "12/12 [==============================] - 1s 89ms/step - loss: 0.0011 - val_loss: 0.0017\n",
      "Epoch 16/100\n",
      "12/12 [==============================] - 1s 90ms/step - loss: 0.0011 - val_loss: 0.0027\n",
      "Epoch 17/100\n",
      "12/12 [==============================] - 1s 88ms/step - loss: 0.0011 - val_loss: 0.0047\n",
      "Epoch 18/100\n",
      "12/12 [==============================] - 1s 88ms/step - loss: 0.0011 - val_loss: 0.0038\n",
      "Epoch 19/100\n",
      "12/12 [==============================] - 1s 91ms/step - loss: 0.0011 - val_loss: 0.0032\n",
      "Epoch 20/100\n",
      "12/12 [==============================] - 1s 89ms/step - loss: 0.0010 - val_loss: 0.0018\n",
      "Epoch 21/100\n",
      "12/12 [==============================] - 1s 90ms/step - loss: 9.9548e-04 - val_loss: 0.0015\n",
      "Epoch 22/100\n",
      "12/12 [==============================] - 1s 89ms/step - loss: 9.6615e-04 - val_loss: 0.0012\n",
      "Epoch 23/100\n",
      "12/12 [==============================] - 1s 90ms/step - loss: 9.8945e-04 - val_loss: 0.0016\n",
      "Epoch 24/100\n",
      "12/12 [==============================] - 1s 88ms/step - loss: 9.1749e-04 - val_loss: 0.0015\n",
      "Epoch 25/100\n",
      "12/12 [==============================] - 1s 99ms/step - loss: 8.9643e-04 - val_loss: 0.0016\n",
      "Epoch 26/100\n",
      "12/12 [==============================] - 1s 89ms/step - loss: 8.9658e-04 - val_loss: 0.0014\n",
      "Epoch 27/100\n",
      "12/12 [==============================] - 1s 97ms/step - loss: 8.6487e-04 - val_loss: 0.0014\n",
      "Epoch 28/100\n",
      "12/12 [==============================] - 1s 90ms/step - loss: 8.7168e-04 - val_loss: 0.0028\n",
      "Epoch 29/100\n",
      "12/12 [==============================] - 1s 90ms/step - loss: 8.6720e-04 - val_loss: 0.0012\n",
      "Epoch 30/100\n",
      "12/12 [==============================] - 1s 89ms/step - loss: 8.8848e-04 - val_loss: 0.0041\n",
      "Epoch 31/100\n",
      "12/12 [==============================] - 1s 89ms/step - loss: 8.8216e-04 - val_loss: 0.0010\n",
      "Epoch 32/100\n",
      "12/12 [==============================] - 1s 89ms/step - loss: 0.0010 - val_loss: 0.0048\n",
      "Epoch 33/100\n",
      "12/12 [==============================] - 1s 91ms/step - loss: 9.0787e-04 - val_loss: 0.0020\n",
      "Epoch 34/100\n",
      "12/12 [==============================] - 1s 89ms/step - loss: 7.8443e-04 - val_loss: 0.0033\n",
      "Epoch 35/100\n",
      "12/12 [==============================] - 1s 105ms/step - loss: 7.7612e-04 - val_loss: 0.0019\n",
      "Epoch 36/100\n",
      "12/12 [==============================] - 1s 89ms/step - loss: 7.4204e-04 - val_loss: 0.0020\n",
      "Epoch 37/100\n",
      "12/12 [==============================] - 1s 90ms/step - loss: 7.2467e-04 - val_loss: 0.0033\n",
      "Epoch 38/100\n",
      "12/12 [==============================] - 1s 90ms/step - loss: 7.5471e-04 - val_loss: 0.0017\n",
      "Epoch 39/100\n",
      "12/12 [==============================] - 1s 91ms/step - loss: 7.0159e-04 - val_loss: 0.0027\n",
      "Epoch 40/100\n",
      "12/12 [==============================] - 1s 90ms/step - loss: 6.8432e-04 - val_loss: 0.0028\n",
      "Epoch 41/100\n",
      "12/12 [==============================] - 1s 90ms/step - loss: 6.8383e-04 - val_loss: 0.0021\n",
      "Epoch 42/100\n",
      "12/12 [==============================] - 1s 100ms/step - loss: 6.8979e-04 - val_loss: 0.0019\n",
      "Epoch 43/100\n",
      "12/12 [==============================] - 1s 90ms/step - loss: 6.6136e-04 - val_loss: 0.0019\n",
      "Epoch 44/100\n",
      "12/12 [==============================] - 1s 90ms/step - loss: 6.5383e-04 - val_loss: 0.0027\n",
      "Epoch 45/100\n",
      "12/12 [==============================] - 1s 90ms/step - loss: 6.7357e-04 - val_loss: 0.0023\n",
      "Epoch 46/100\n",
      "12/12 [==============================] - 1s 89ms/step - loss: 6.2204e-04 - val_loss: 0.0042\n",
      "Epoch 47/100\n",
      "12/12 [==============================] - 1s 92ms/step - loss: 7.0708e-04 - val_loss: 0.0010\n",
      "Epoch 48/100\n",
      "12/12 [==============================] - 1s 89ms/step - loss: 6.6318e-04 - val_loss: 9.4696e-04\n",
      "Epoch 49/100\n",
      "12/12 [==============================] - 1s 90ms/step - loss: 6.9611e-04 - val_loss: 0.0011\n",
      "Epoch 50/100\n",
      "12/12 [==============================] - 1s 89ms/step - loss: 6.0941e-04 - val_loss: 0.0029\n",
      "Epoch 51/100\n",
      "12/12 [==============================] - 1s 92ms/step - loss: 6.0691e-04 - val_loss: 8.5395e-04\n",
      "Epoch 52/100\n",
      "12/12 [==============================] - 1s 89ms/step - loss: 6.4178e-04 - val_loss: 0.0037\n",
      "Epoch 53/100\n",
      "12/12 [==============================] - 1s 90ms/step - loss: 6.2813e-04 - val_loss: 0.0011\n",
      "Epoch 54/100\n",
      "12/12 [==============================] - 1s 91ms/step - loss: 6.4681e-04 - val_loss: 0.0011\n",
      "Epoch 55/100\n",
      "12/12 [==============================] - 1s 89ms/step - loss: 5.6819e-04 - val_loss: 0.0012\n",
      "Epoch 56/100\n",
      "12/12 [==============================] - 1s 90ms/step - loss: 5.4786e-04 - val_loss: 0.0028\n",
      "Epoch 57/100\n",
      "12/12 [==============================] - 1s 99ms/step - loss: 5.7095e-04 - val_loss: 0.0012\n",
      "Epoch 58/100\n",
      "12/12 [==============================] - 1s 92ms/step - loss: 5.4343e-04 - val_loss: 0.0016\n",
      "Epoch 59/100\n",
      "12/12 [==============================] - 1s 89ms/step - loss: 5.4856e-04 - val_loss: 0.0015\n",
      "Epoch 60/100\n",
      "12/12 [==============================] - 1s 90ms/step - loss: 5.3376e-04 - val_loss: 0.0012\n",
      "Epoch 61/100\n",
      "12/12 [==============================] - 1s 91ms/step - loss: 5.1739e-04 - val_loss: 0.0018\n",
      "Epoch 62/100\n",
      "12/12 [==============================] - 1s 89ms/step - loss: 5.1571e-04 - val_loss: 8.5485e-04\n",
      "Epoch 63/100\n",
      "12/12 [==============================] - 1s 90ms/step - loss: 5.2782e-04 - val_loss: 6.7778e-04\n",
      "Epoch 64/100\n",
      "12/12 [==============================] - 1s 90ms/step - loss: 6.1566e-04 - val_loss: 0.0012\n",
      "Epoch 65/100\n",
      "12/12 [==============================] - 1s 91ms/step - loss: 5.2929e-04 - val_loss: 0.0033\n",
      "Epoch 66/100\n",
      "12/12 [==============================] - 1s 90ms/step - loss: 5.3552e-04 - val_loss: 0.0022\n",
      "Epoch 67/100\n",
      "12/12 [==============================] - 1s 90ms/step - loss: 5.7911e-04 - val_loss: 0.0016\n",
      "Epoch 68/100\n",
      "12/12 [==============================] - 1s 91ms/step - loss: 5.5045e-04 - val_loss: 0.0011\n",
      "Epoch 69/100\n",
      "12/12 [==============================] - 1s 89ms/step - loss: 4.8703e-04 - val_loss: 0.0017\n",
      "Epoch 70/100\n",
      "12/12 [==============================] - 1s 90ms/step - loss: 5.6664e-04 - val_loss: 0.0033\n",
      "Epoch 71/100\n",
      "12/12 [==============================] - 1s 92ms/step - loss: 5.1809e-04 - val_loss: 0.0013\n",
      "Epoch 72/100\n",
      "12/12 [==============================] - 1s 99ms/step - loss: 4.7290e-04 - val_loss: 0.0014\n",
      "Epoch 73/100\n",
      "12/12 [==============================] - 1s 92ms/step - loss: 4.6680e-04 - val_loss: 7.5420e-04\n",
      "Epoch 74/100\n",
      "12/12 [==============================] - 1s 91ms/step - loss: 4.6187e-04 - val_loss: 8.0019e-04\n",
      "Epoch 75/100\n",
      "12/12 [==============================] - 1s 90ms/step - loss: 4.6062e-04 - val_loss: 0.0010\n",
      "Epoch 76/100\n",
      "12/12 [==============================] - 1s 90ms/step - loss: 4.5294e-04 - val_loss: 0.0013\n",
      "Epoch 77/100\n",
      "12/12 [==============================] - 1s 91ms/step - loss: 4.4966e-04 - val_loss: 0.0010\n",
      "Epoch 78/100\n",
      "12/12 [==============================] - 1s 89ms/step - loss: 4.3871e-04 - val_loss: 7.7311e-04\n",
      "Epoch 79/100\n",
      "12/12 [==============================] - 1s 92ms/step - loss: 4.2968e-04 - val_loss: 5.6305e-04\n",
      "Epoch 80/100\n",
      "12/12 [==============================] - 1s 90ms/step - loss: 4.7930e-04 - val_loss: 0.0012\n",
      "Epoch 81/100\n",
      "12/12 [==============================] - 1s 92ms/step - loss: 4.1924e-04 - val_loss: 5.4113e-04\n",
      "Epoch 82/100\n",
      "12/12 [==============================] - 1s 95ms/step - loss: 4.6163e-04 - val_loss: 7.6328e-04\n",
      "Epoch 83/100\n",
      "12/12 [==============================] - 1s 90ms/step - loss: 4.3311e-04 - val_loss: 6.0412e-04\n",
      "Epoch 84/100\n",
      "12/12 [==============================] - 1s 91ms/step - loss: 4.2328e-04 - val_loss: 4.5849e-04\n",
      "Epoch 85/100\n",
      "12/12 [==============================] - 1s 89ms/step - loss: 5.1183e-04 - val_loss: 4.5437e-04\n",
      "Epoch 86/100\n",
      "12/12 [==============================] - 1s 99ms/step - loss: 4.1811e-04 - val_loss: 7.2960e-04\n",
      "Epoch 87/100\n",
      "12/12 [==============================] - 1s 91ms/step - loss: 3.9889e-04 - val_loss: 6.2790e-04\n",
      "Epoch 88/100\n",
      "12/12 [==============================] - 1s 90ms/step - loss: 4.0424e-04 - val_loss: 9.2450e-04\n",
      "Epoch 89/100\n",
      "12/12 [==============================] - 1s 91ms/step - loss: 3.9226e-04 - val_loss: 7.8807e-04\n",
      "Epoch 90/100\n",
      "12/12 [==============================] - 1s 90ms/step - loss: 4.0536e-04 - val_loss: 5.0866e-04\n",
      "Epoch 91/100\n",
      "12/12 [==============================] - 1s 89ms/step - loss: 3.9595e-04 - val_loss: 0.0015\n",
      "Epoch 92/100\n",
      "12/12 [==============================] - 1s 93ms/step - loss: 4.3307e-04 - val_loss: 0.0014\n",
      "Epoch 93/100\n",
      "12/12 [==============================] - 1s 90ms/step - loss: 3.9908e-04 - val_loss: 4.4892e-04\n",
      "Epoch 94/100\n",
      "12/12 [==============================] - 1s 92ms/step - loss: 3.8557e-04 - val_loss: 5.4922e-04\n",
      "Epoch 95/100\n",
      "12/12 [==============================] - 1s 90ms/step - loss: 4.3457e-04 - val_loss: 4.6265e-04\n",
      "Epoch 96/100\n",
      "12/12 [==============================] - 1s 92ms/step - loss: 5.0235e-04 - val_loss: 4.9510e-04\n",
      "Epoch 97/100\n",
      "12/12 [==============================] - 1s 90ms/step - loss: 5.1306e-04 - val_loss: 4.6668e-04\n",
      "Epoch 98/100\n",
      "12/12 [==============================] - 1s 89ms/step - loss: 3.7976e-04 - val_loss: 4.5773e-04\n",
      "Epoch 99/100\n",
      "12/12 [==============================] - 1s 90ms/step - loss: 3.7834e-04 - val_loss: 7.6951e-04\n",
      "Epoch 100/100\n",
      "12/12 [==============================] - 1s 100ms/step - loss: 4.2161e-04 - val_loss: 4.1737e-04\n"
     ]
    },
    {
     "data": {
      "text/plain": [
       "<keras.src.callbacks.History at 0x7f9660789b50>"
      ]
     },
     "execution_count": 41,
     "metadata": {},
     "output_type": "execute_result"
    }
   ],
   "source": [
    "model.fit(X_train,y_train,validation_data=(X_test,y_test),epochs=100,batch_size=64,verbose=1)"
   ]
  },
  {
   "cell_type": "code",
   "execution_count": 42,
   "metadata": {},
   "outputs": [
    {
     "name": "stdout",
     "output_type": "stream",
     "text": [
      "23/23 [==============================] - 1s 19ms/step\n",
      "11/11 [==============================] - 0s 19ms/step\n"
     ]
    }
   ],
   "source": [
    "train_predict = model.predict(X_train)\n",
    "test_predict = model.predict(X_test)"
   ]
  },
  {
   "cell_type": "code",
   "execution_count": 43,
   "metadata": {},
   "outputs": [],
   "source": [
    "train_predict  = scaler.inverse_transform(train_predict)\n",
    "test_predict  = scaler.inverse_transform(test_predict)"
   ]
  },
  {
   "cell_type": "code",
   "execution_count": 44,
   "metadata": {},
   "outputs": [
    {
     "data": {
      "text/plain": [
       "141.21287112492132"
      ]
     },
     "execution_count": 44,
     "metadata": {},
     "output_type": "execute_result"
    }
   ],
   "source": [
    "import math\n",
    "from sklearn.metrics import mean_squared_error\n",
    "math.sqrt(mean_squared_error(y_train,train_predict))"
   ]
  },
  {
   "cell_type": "code",
   "execution_count": 45,
   "metadata": {},
   "outputs": [
    {
     "data": {
      "text/plain": [
       "201.9213597049129"
      ]
     },
     "execution_count": 45,
     "metadata": {},
     "output_type": "execute_result"
    }
   ],
   "source": [
    "math.sqrt(mean_squared_error(y_test,test_predict))"
   ]
  },
  {
   "cell_type": "code",
   "execution_count": null,
   "metadata": {},
   "outputs": [],
   "source": [
    " "
   ]
  }
 ],
 "metadata": {
  "kernelspec": {
   "display_name": "Python 3",
   "language": "python",
   "name": "python3"
  },
  "language_info": {
   "codemirror_mode": {
    "name": "ipython",
    "version": 3
   },
   "file_extension": ".py",
   "mimetype": "text/x-python",
   "name": "python",
   "nbconvert_exporter": "python",
   "pygments_lexer": "ipython3",
   "version": "3.8.10"
  }
 },
 "nbformat": 4,
 "nbformat_minor": 2
}
