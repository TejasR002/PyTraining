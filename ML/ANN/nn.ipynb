{
 "cells": [
  {
   "cell_type": "code",
   "execution_count": 116,
   "metadata": {},
   "outputs": [],
   "source": [
    "import pandas as pd\n",
    "import numpy as np\n",
    "data = pd.read_csv('Churn_Modelling.csv')"
   ]
  },
  {
   "cell_type": "code",
   "execution_count": 117,
   "metadata": {},
   "outputs": [],
   "source": [
    "X = data.iloc[:,3:13]\n",
    "y  = data.iloc[:,13]"
   ]
  },
  {
   "cell_type": "code",
   "execution_count": 118,
   "metadata": {},
   "outputs": [],
   "source": [
    "#Create dummy variables\n",
    "geography=pd.get_dummies(X[\"Geography\"],drop_first=True)\n",
    "gender=pd.get_dummies(X['Gender'],drop_first=True)"
   ]
  },
  {
   "cell_type": "code",
   "execution_count": 119,
   "metadata": {},
   "outputs": [],
   "source": [
    "X=pd.concat([X,geography,gender],axis=1)\n",
    "\n",
    "## Drop Unnecessary columns\n",
    "X=X.drop(['Geography','Gender'],axis=1)"
   ]
  },
  {
   "cell_type": "code",
   "execution_count": 120,
   "metadata": {},
   "outputs": [
    {
     "data": {
      "text/plain": [
       "(10000, 11)"
      ]
     },
     "execution_count": 120,
     "metadata": {},
     "output_type": "execute_result"
    }
   ],
   "source": [
    "X.shape"
   ]
  },
  {
   "cell_type": "code",
   "execution_count": 121,
   "metadata": {},
   "outputs": [
    {
     "data": {
      "text/html": [
       "<div>\n",
       "<style scoped>\n",
       "    .dataframe tbody tr th:only-of-type {\n",
       "        vertical-align: middle;\n",
       "    }\n",
       "\n",
       "    .dataframe tbody tr th {\n",
       "        vertical-align: top;\n",
       "    }\n",
       "\n",
       "    .dataframe thead th {\n",
       "        text-align: right;\n",
       "    }\n",
       "</style>\n",
       "<table border=\"1\" class=\"dataframe\">\n",
       "  <thead>\n",
       "    <tr style=\"text-align: right;\">\n",
       "      <th></th>\n",
       "      <th>CreditScore</th>\n",
       "      <th>Age</th>\n",
       "      <th>Tenure</th>\n",
       "      <th>Balance</th>\n",
       "      <th>NumOfProducts</th>\n",
       "      <th>HasCrCard</th>\n",
       "      <th>IsActiveMember</th>\n",
       "      <th>EstimatedSalary</th>\n",
       "      <th>Germany</th>\n",
       "      <th>Spain</th>\n",
       "      <th>Male</th>\n",
       "    </tr>\n",
       "  </thead>\n",
       "  <tbody>\n",
       "    <tr>\n",
       "      <th>0</th>\n",
       "      <td>619</td>\n",
       "      <td>42</td>\n",
       "      <td>2</td>\n",
       "      <td>0.00</td>\n",
       "      <td>1</td>\n",
       "      <td>1</td>\n",
       "      <td>1</td>\n",
       "      <td>101348.88</td>\n",
       "      <td>False</td>\n",
       "      <td>False</td>\n",
       "      <td>False</td>\n",
       "    </tr>\n",
       "    <tr>\n",
       "      <th>1</th>\n",
       "      <td>608</td>\n",
       "      <td>41</td>\n",
       "      <td>1</td>\n",
       "      <td>83807.86</td>\n",
       "      <td>1</td>\n",
       "      <td>0</td>\n",
       "      <td>1</td>\n",
       "      <td>112542.58</td>\n",
       "      <td>False</td>\n",
       "      <td>True</td>\n",
       "      <td>False</td>\n",
       "    </tr>\n",
       "    <tr>\n",
       "      <th>2</th>\n",
       "      <td>502</td>\n",
       "      <td>42</td>\n",
       "      <td>8</td>\n",
       "      <td>159660.80</td>\n",
       "      <td>3</td>\n",
       "      <td>1</td>\n",
       "      <td>0</td>\n",
       "      <td>113931.57</td>\n",
       "      <td>False</td>\n",
       "      <td>False</td>\n",
       "      <td>False</td>\n",
       "    </tr>\n",
       "    <tr>\n",
       "      <th>3</th>\n",
       "      <td>699</td>\n",
       "      <td>39</td>\n",
       "      <td>1</td>\n",
       "      <td>0.00</td>\n",
       "      <td>2</td>\n",
       "      <td>0</td>\n",
       "      <td>0</td>\n",
       "      <td>93826.63</td>\n",
       "      <td>False</td>\n",
       "      <td>False</td>\n",
       "      <td>False</td>\n",
       "    </tr>\n",
       "    <tr>\n",
       "      <th>4</th>\n",
       "      <td>850</td>\n",
       "      <td>43</td>\n",
       "      <td>2</td>\n",
       "      <td>125510.82</td>\n",
       "      <td>1</td>\n",
       "      <td>1</td>\n",
       "      <td>1</td>\n",
       "      <td>79084.10</td>\n",
       "      <td>False</td>\n",
       "      <td>True</td>\n",
       "      <td>False</td>\n",
       "    </tr>\n",
       "  </tbody>\n",
       "</table>\n",
       "</div>"
      ],
      "text/plain": [
       "   CreditScore  Age  Tenure    Balance  NumOfProducts  HasCrCard  \\\n",
       "0          619   42       2       0.00              1          1   \n",
       "1          608   41       1   83807.86              1          0   \n",
       "2          502   42       8  159660.80              3          1   \n",
       "3          699   39       1       0.00              2          0   \n",
       "4          850   43       2  125510.82              1          1   \n",
       "\n",
       "   IsActiveMember  EstimatedSalary  Germany  Spain   Male  \n",
       "0               1        101348.88    False  False  False  \n",
       "1               1        112542.58    False   True  False  \n",
       "2               0        113931.57    False  False  False  \n",
       "3               0         93826.63    False  False  False  \n",
       "4               1         79084.10    False   True  False  "
      ]
     },
     "execution_count": 121,
     "metadata": {},
     "output_type": "execute_result"
    }
   ],
   "source": [
    "X.head()"
   ]
  },
  {
   "cell_type": "code",
   "execution_count": 122,
   "metadata": {},
   "outputs": [],
   "source": [
    "# Splitting the dataset into the Training set and Test set\n",
    "from sklearn.model_selection import train_test_split\n",
    "X_train, X_test, y_train, y_test = train_test_split(X, y, test_size = 0.2, random_state = 0)"
   ]
  },
  {
   "cell_type": "code",
   "execution_count": 123,
   "metadata": {},
   "outputs": [],
   "source": [
    "# Feature Scaling\n",
    "from sklearn.preprocessing import StandardScaler\n",
    "sc = StandardScaler()\n",
    "X_train = sc.fit_transform(X_train)\n",
    "X_test = sc.transform(X_test)"
   ]
  },
  {
   "cell_type": "code",
   "execution_count": 125,
   "metadata": {},
   "outputs": [
    {
     "name": "stdout",
     "output_type": "stream",
     "text": [
      "2.13.1\n"
     ]
    }
   ],
   "source": [
    "import tensorflow\n",
    "print(tensorflow.__version__)"
   ]
  },
  {
   "cell_type": "code",
   "execution_count": 126,
   "metadata": {},
   "outputs": [],
   "source": [
    "# Part 2 - Now let's make the ANN!\n",
    "\n",
    "# Importing the Keras libraries and packages\n",
    "import tensorflow.keras\n",
    "from tensorflow.keras.models import Sequential\n",
    "from tensorflow.keras.layers import Dense\n",
    "from tensorflow.keras.layers import LeakyReLU,PReLU,ELU,ReLU\n",
    "from tensorflow.keras.layers import Dropout\n",
    "from keras.callbacks import History\n",
    "\n",
    "# Define the callback\n",
    "histories = History()"
   ]
  },
  {
   "cell_type": "code",
   "execution_count": 127,
   "metadata": {},
   "outputs": [],
   "source": [
    "\n",
    "# Initialising the ANN\n",
    "classifier = Sequential()\n",
    "\n",
    "# Adding the input layer and the first hidden layer\n",
    "classifier.add(Dense(units = 10,kernel_initializer='he_uniform',activation='',input_dim = 11))\n",
    "\n",
    "# Adding the second hidden layer\n",
    "classifier.add(Dense(units = 10, kernel_initializer = 'he_uniform',activation=''))\n",
    "# Adding the output layer\n",
    "classifier.add(Dense(units = 1, kernel_initializer = 'glorot_uniform', activation = 'sigmoid'))\n",
    "\n",
    "# Compiling the ANN\n",
    "classifier.compile(optimizer = 'adam', loss = 'binary_crossentropy', metrics = ['accuracy'])"
   ]
  },
  {
   "cell_type": "code",
   "execution_count": 128,
   "metadata": {},
   "outputs": [
    {
     "name": "stdout",
     "output_type": "stream",
     "text": [
      "Model: \"sequential_5\"\n",
      "_________________________________________________________________\n",
      " Layer (type)                Output Shape              Param #   \n",
      "=================================================================\n",
      " dense_15 (Dense)            (None, 10)                120       \n",
      "                                                                 \n",
      " dense_16 (Dense)            (None, 10)                110       \n",
      "                                                                 \n",
      " dense_17 (Dense)            (None, 1)                 11        \n",
      "                                                                 \n",
      "=================================================================\n",
      "Total params: 241 (964.00 Byte)\n",
      "Trainable params: 241 (964.00 Byte)\n",
      "Non-trainable params: 0 (0.00 Byte)\n",
      "_________________________________________________________________\n"
     ]
    }
   ],
   "source": [
    "classifier.summary()"
   ]
  },
  {
   "cell_type": "code",
   "execution_count": 129,
   "metadata": {},
   "outputs": [
    {
     "name": "stdout",
     "output_type": "stream",
     "text": [
      "Epoch 1/100\n",
      "54/54 [==============================] - 1s 4ms/step - loss: 0.5993 - accuracy: 0.7962 - val_loss: 0.5853 - val_accuracy: 0.7955\n",
      "Epoch 2/100\n",
      "54/54 [==============================] - 0s 2ms/step - loss: 0.5740 - accuracy: 0.7962 - val_loss: 0.5633 - val_accuracy: 0.7955\n",
      "Epoch 3/100\n",
      "54/54 [==============================] - 0s 2ms/step - loss: 0.5544 - accuracy: 0.7962 - val_loss: 0.5465 - val_accuracy: 0.7955\n",
      "Epoch 4/100\n",
      "54/54 [==============================] - 0s 2ms/step - loss: 0.5396 - accuracy: 0.7962 - val_loss: 0.5335 - val_accuracy: 0.7955\n",
      "Epoch 5/100\n",
      "54/54 [==============================] - 0s 2ms/step - loss: 0.5282 - accuracy: 0.7962 - val_loss: 0.5240 - val_accuracy: 0.7955\n",
      "Epoch 6/100\n",
      "54/54 [==============================] - 0s 2ms/step - loss: 0.5195 - accuracy: 0.7962 - val_loss: 0.5166 - val_accuracy: 0.7955\n",
      "Epoch 7/100\n",
      "54/54 [==============================] - 0s 2ms/step - loss: 0.5126 - accuracy: 0.7962 - val_loss: 0.5107 - val_accuracy: 0.7955\n",
      "Epoch 8/100\n",
      "54/54 [==============================] - 0s 2ms/step - loss: 0.5070 - accuracy: 0.7962 - val_loss: 0.5059 - val_accuracy: 0.7955\n",
      "Epoch 9/100\n",
      "54/54 [==============================] - 0s 2ms/step - loss: 0.5022 - accuracy: 0.7962 - val_loss: 0.5015 - val_accuracy: 0.7955\n",
      "Epoch 10/100\n",
      "54/54 [==============================] - 0s 2ms/step - loss: 0.4977 - accuracy: 0.7962 - val_loss: 0.4974 - val_accuracy: 0.7955\n",
      "Epoch 11/100\n",
      "54/54 [==============================] - 0s 2ms/step - loss: 0.4933 - accuracy: 0.7962 - val_loss: 0.4932 - val_accuracy: 0.7955\n",
      "Epoch 12/100\n",
      "54/54 [==============================] - 0s 2ms/step - loss: 0.4886 - accuracy: 0.7962 - val_loss: 0.4887 - val_accuracy: 0.7955\n",
      "Epoch 13/100\n",
      "54/54 [==============================] - 0s 2ms/step - loss: 0.4834 - accuracy: 0.7962 - val_loss: 0.4838 - val_accuracy: 0.7955\n",
      "Epoch 14/100\n",
      "54/54 [==============================] - 0s 2ms/step - loss: 0.4778 - accuracy: 0.7962 - val_loss: 0.4784 - val_accuracy: 0.7955\n",
      "Epoch 15/100\n",
      "54/54 [==============================] - 0s 2ms/step - loss: 0.4717 - accuracy: 0.7962 - val_loss: 0.4725 - val_accuracy: 0.7955\n",
      "Epoch 16/100\n",
      "54/54 [==============================] - 0s 2ms/step - loss: 0.4653 - accuracy: 0.7962 - val_loss: 0.4666 - val_accuracy: 0.7955\n",
      "Epoch 17/100\n",
      "54/54 [==============================] - 0s 2ms/step - loss: 0.4586 - accuracy: 0.7962 - val_loss: 0.4605 - val_accuracy: 0.7955\n",
      "Epoch 18/100\n",
      "54/54 [==============================] - 0s 2ms/step - loss: 0.4520 - accuracy: 0.7962 - val_loss: 0.4544 - val_accuracy: 0.7955\n",
      "Epoch 19/100\n",
      "54/54 [==============================] - 0s 2ms/step - loss: 0.4455 - accuracy: 0.7962 - val_loss: 0.4485 - val_accuracy: 0.7955\n",
      "Epoch 20/100\n",
      "54/54 [==============================] - 0s 2ms/step - loss: 0.4392 - accuracy: 0.7962 - val_loss: 0.4431 - val_accuracy: 0.7955\n",
      "Epoch 21/100\n",
      "54/54 [==============================] - 0s 2ms/step - loss: 0.4333 - accuracy: 0.7962 - val_loss: 0.4378 - val_accuracy: 0.7955\n",
      "Epoch 22/100\n",
      "54/54 [==============================] - 0s 2ms/step - loss: 0.4276 - accuracy: 0.7962 - val_loss: 0.4328 - val_accuracy: 0.7955\n",
      "Epoch 23/100\n",
      "54/54 [==============================] - 0s 2ms/step - loss: 0.4223 - accuracy: 0.7962 - val_loss: 0.4282 - val_accuracy: 0.7955\n",
      "Epoch 24/100\n",
      "54/54 [==============================] - 0s 2ms/step - loss: 0.4170 - accuracy: 0.7962 - val_loss: 0.4234 - val_accuracy: 0.7955\n",
      "Epoch 25/100\n",
      "54/54 [==============================] - 0s 2ms/step - loss: 0.4116 - accuracy: 0.7962 - val_loss: 0.4186 - val_accuracy: 0.7955\n",
      "Epoch 26/100\n",
      "54/54 [==============================] - 0s 2ms/step - loss: 0.4061 - accuracy: 0.7968 - val_loss: 0.4136 - val_accuracy: 0.8061\n",
      "Epoch 27/100\n",
      "54/54 [==============================] - 0s 2ms/step - loss: 0.4006 - accuracy: 0.8179 - val_loss: 0.4089 - val_accuracy: 0.8148\n",
      "Epoch 28/100\n",
      "54/54 [==============================] - 0s 2ms/step - loss: 0.3957 - accuracy: 0.8294 - val_loss: 0.4049 - val_accuracy: 0.8232\n",
      "Epoch 29/100\n",
      "54/54 [==============================] - 0s 2ms/step - loss: 0.3909 - accuracy: 0.8308 - val_loss: 0.4012 - val_accuracy: 0.8217\n",
      "Epoch 30/100\n",
      "54/54 [==============================] - 0s 2ms/step - loss: 0.3867 - accuracy: 0.8308 - val_loss: 0.3978 - val_accuracy: 0.8258\n",
      "Epoch 31/100\n",
      "54/54 [==============================] - 0s 2ms/step - loss: 0.3828 - accuracy: 0.8337 - val_loss: 0.3945 - val_accuracy: 0.8345\n",
      "Epoch 32/100\n",
      "54/54 [==============================] - 0s 2ms/step - loss: 0.3794 - accuracy: 0.8451 - val_loss: 0.3918 - val_accuracy: 0.8391\n",
      "Epoch 33/100\n",
      "54/54 [==============================] - 0s 2ms/step - loss: 0.3763 - accuracy: 0.8520 - val_loss: 0.3895 - val_accuracy: 0.8451\n",
      "Epoch 34/100\n",
      "54/54 [==============================] - 0s 2ms/step - loss: 0.3735 - accuracy: 0.8558 - val_loss: 0.3870 - val_accuracy: 0.8455\n",
      "Epoch 35/100\n",
      "54/54 [==============================] - 0s 2ms/step - loss: 0.3710 - accuracy: 0.8571 - val_loss: 0.3852 - val_accuracy: 0.8474\n",
      "Epoch 36/100\n",
      "54/54 [==============================] - 0s 2ms/step - loss: 0.3687 - accuracy: 0.8572 - val_loss: 0.3831 - val_accuracy: 0.8474\n",
      "Epoch 37/100\n",
      "54/54 [==============================] - 0s 2ms/step - loss: 0.3665 - accuracy: 0.8586 - val_loss: 0.3815 - val_accuracy: 0.8466\n",
      "Epoch 38/100\n",
      "54/54 [==============================] - 0s 2ms/step - loss: 0.3647 - accuracy: 0.8595 - val_loss: 0.3800 - val_accuracy: 0.8466\n",
      "Epoch 39/100\n",
      "54/54 [==============================] - 0s 2ms/step - loss: 0.3630 - accuracy: 0.8600 - val_loss: 0.3786 - val_accuracy: 0.8463\n",
      "Epoch 40/100\n",
      "54/54 [==============================] - 0s 2ms/step - loss: 0.3613 - accuracy: 0.8604 - val_loss: 0.3773 - val_accuracy: 0.8455\n",
      "Epoch 41/100\n",
      "54/54 [==============================] - 0s 2ms/step - loss: 0.3599 - accuracy: 0.8593 - val_loss: 0.3758 - val_accuracy: 0.8482\n",
      "Epoch 42/100\n",
      "54/54 [==============================] - 0s 2ms/step - loss: 0.3584 - accuracy: 0.8595 - val_loss: 0.3744 - val_accuracy: 0.8493\n",
      "Epoch 43/100\n",
      "54/54 [==============================] - 0s 2ms/step - loss: 0.3570 - accuracy: 0.8593 - val_loss: 0.3735 - val_accuracy: 0.8504\n",
      "Epoch 44/100\n",
      "54/54 [==============================] - 0s 2ms/step - loss: 0.3557 - accuracy: 0.8604 - val_loss: 0.3723 - val_accuracy: 0.8497\n",
      "Epoch 45/100\n",
      "54/54 [==============================] - 0s 2ms/step - loss: 0.3545 - accuracy: 0.8602 - val_loss: 0.3712 - val_accuracy: 0.8508\n",
      "Epoch 46/100\n",
      "54/54 [==============================] - 0s 2ms/step - loss: 0.3532 - accuracy: 0.8610 - val_loss: 0.3697 - val_accuracy: 0.8535\n",
      "Epoch 47/100\n",
      "54/54 [==============================] - 0s 2ms/step - loss: 0.3519 - accuracy: 0.8617 - val_loss: 0.3689 - val_accuracy: 0.8527\n",
      "Epoch 48/100\n",
      "54/54 [==============================] - 0s 2ms/step - loss: 0.3506 - accuracy: 0.8615 - val_loss: 0.3676 - val_accuracy: 0.8542\n",
      "Epoch 49/100\n",
      "54/54 [==============================] - 0s 2ms/step - loss: 0.3495 - accuracy: 0.8614 - val_loss: 0.3663 - val_accuracy: 0.8546\n",
      "Epoch 50/100\n",
      "54/54 [==============================] - 0s 2ms/step - loss: 0.3484 - accuracy: 0.8625 - val_loss: 0.3654 - val_accuracy: 0.8550\n",
      "Epoch 51/100\n",
      "54/54 [==============================] - 0s 2ms/step - loss: 0.3474 - accuracy: 0.8636 - val_loss: 0.3646 - val_accuracy: 0.8565\n",
      "Epoch 52/100\n",
      "54/54 [==============================] - 0s 2ms/step - loss: 0.3463 - accuracy: 0.8614 - val_loss: 0.3637 - val_accuracy: 0.8557\n",
      "Epoch 53/100\n",
      "54/54 [==============================] - 0s 2ms/step - loss: 0.3453 - accuracy: 0.8617 - val_loss: 0.3629 - val_accuracy: 0.8561\n",
      "Epoch 54/100\n",
      "54/54 [==============================] - 0s 2ms/step - loss: 0.3445 - accuracy: 0.8628 - val_loss: 0.3624 - val_accuracy: 0.8554\n",
      "Epoch 55/100\n",
      "54/54 [==============================] - 0s 2ms/step - loss: 0.3437 - accuracy: 0.8638 - val_loss: 0.3617 - val_accuracy: 0.8565\n",
      "Epoch 56/100\n",
      "54/54 [==============================] - 0s 2ms/step - loss: 0.3429 - accuracy: 0.8627 - val_loss: 0.3611 - val_accuracy: 0.8550\n",
      "Epoch 57/100\n",
      "54/54 [==============================] - 0s 2ms/step - loss: 0.3422 - accuracy: 0.8610 - val_loss: 0.3609 - val_accuracy: 0.8550\n",
      "Epoch 58/100\n",
      "54/54 [==============================] - 0s 2ms/step - loss: 0.3414 - accuracy: 0.8638 - val_loss: 0.3600 - val_accuracy: 0.8550\n",
      "Epoch 59/100\n",
      "54/54 [==============================] - 0s 2ms/step - loss: 0.3408 - accuracy: 0.8636 - val_loss: 0.3597 - val_accuracy: 0.8550\n",
      "Epoch 60/100\n",
      "54/54 [==============================] - 0s 2ms/step - loss: 0.3402 - accuracy: 0.8636 - val_loss: 0.3593 - val_accuracy: 0.8546\n",
      "Epoch 61/100\n",
      "54/54 [==============================] - 0s 2ms/step - loss: 0.3396 - accuracy: 0.8638 - val_loss: 0.3589 - val_accuracy: 0.8561\n",
      "Epoch 62/100\n",
      "54/54 [==============================] - 0s 2ms/step - loss: 0.3391 - accuracy: 0.8638 - val_loss: 0.3586 - val_accuracy: 0.8557\n",
      "Epoch 63/100\n",
      "54/54 [==============================] - 0s 2ms/step - loss: 0.3385 - accuracy: 0.8636 - val_loss: 0.3583 - val_accuracy: 0.8557\n",
      "Epoch 64/100\n",
      "54/54 [==============================] - 0s 2ms/step - loss: 0.3381 - accuracy: 0.8623 - val_loss: 0.3582 - val_accuracy: 0.8554\n",
      "Epoch 65/100\n",
      "54/54 [==============================] - 0s 2ms/step - loss: 0.3374 - accuracy: 0.8643 - val_loss: 0.3577 - val_accuracy: 0.8561\n",
      "Epoch 66/100\n",
      "54/54 [==============================] - 0s 2ms/step - loss: 0.3370 - accuracy: 0.8638 - val_loss: 0.3577 - val_accuracy: 0.8561\n",
      "Epoch 67/100\n",
      "54/54 [==============================] - 0s 2ms/step - loss: 0.3366 - accuracy: 0.8640 - val_loss: 0.3574 - val_accuracy: 0.8565\n",
      "Epoch 68/100\n",
      "54/54 [==============================] - 0s 2ms/step - loss: 0.3362 - accuracy: 0.8645 - val_loss: 0.3569 - val_accuracy: 0.8554\n",
      "Epoch 69/100\n",
      "54/54 [==============================] - 0s 2ms/step - loss: 0.3357 - accuracy: 0.8642 - val_loss: 0.3567 - val_accuracy: 0.8557\n",
      "Epoch 70/100\n",
      "54/54 [==============================] - 0s 2ms/step - loss: 0.3354 - accuracy: 0.8640 - val_loss: 0.3569 - val_accuracy: 0.8565\n",
      "Epoch 71/100\n",
      "54/54 [==============================] - 0s 2ms/step - loss: 0.3351 - accuracy: 0.8640 - val_loss: 0.3566 - val_accuracy: 0.8565\n",
      "Epoch 72/100\n",
      "54/54 [==============================] - 0s 2ms/step - loss: 0.3345 - accuracy: 0.8645 - val_loss: 0.3564 - val_accuracy: 0.8565\n",
      "Epoch 73/100\n",
      "54/54 [==============================] - 0s 2ms/step - loss: 0.3341 - accuracy: 0.8643 - val_loss: 0.3564 - val_accuracy: 0.8565\n",
      "Epoch 74/100\n",
      "54/54 [==============================] - 0s 2ms/step - loss: 0.3340 - accuracy: 0.8642 - val_loss: 0.3560 - val_accuracy: 0.8561\n",
      "Epoch 75/100\n",
      "54/54 [==============================] - 0s 2ms/step - loss: 0.3335 - accuracy: 0.8645 - val_loss: 0.3558 - val_accuracy: 0.8569\n",
      "Epoch 76/100\n",
      "54/54 [==============================] - 0s 2ms/step - loss: 0.3333 - accuracy: 0.8655 - val_loss: 0.3558 - val_accuracy: 0.8554\n",
      "Epoch 77/100\n",
      "54/54 [==============================] - 0s 2ms/step - loss: 0.3330 - accuracy: 0.8640 - val_loss: 0.3558 - val_accuracy: 0.8565\n",
      "Epoch 78/100\n",
      "54/54 [==============================] - 0s 2ms/step - loss: 0.3328 - accuracy: 0.8660 - val_loss: 0.3556 - val_accuracy: 0.8565\n",
      "Epoch 79/100\n",
      "54/54 [==============================] - 0s 2ms/step - loss: 0.3324 - accuracy: 0.8653 - val_loss: 0.3553 - val_accuracy: 0.8565\n",
      "Epoch 80/100\n",
      "54/54 [==============================] - 0s 2ms/step - loss: 0.3321 - accuracy: 0.8655 - val_loss: 0.3553 - val_accuracy: 0.8557\n",
      "Epoch 81/100\n",
      "54/54 [==============================] - 0s 3ms/step - loss: 0.3319 - accuracy: 0.8651 - val_loss: 0.3554 - val_accuracy: 0.8546\n",
      "Epoch 82/100\n",
      "54/54 [==============================] - 0s 2ms/step - loss: 0.3317 - accuracy: 0.8655 - val_loss: 0.3550 - val_accuracy: 0.8554\n",
      "Epoch 83/100\n",
      "54/54 [==============================] - 0s 2ms/step - loss: 0.3314 - accuracy: 0.8656 - val_loss: 0.3548 - val_accuracy: 0.8561\n",
      "Epoch 84/100\n",
      "54/54 [==============================] - 0s 2ms/step - loss: 0.3312 - accuracy: 0.8647 - val_loss: 0.3550 - val_accuracy: 0.8550\n",
      "Epoch 85/100\n",
      "54/54 [==============================] - 0s 2ms/step - loss: 0.3310 - accuracy: 0.8649 - val_loss: 0.3551 - val_accuracy: 0.8550\n",
      "Epoch 86/100\n",
      "54/54 [==============================] - 0s 2ms/step - loss: 0.3307 - accuracy: 0.8655 - val_loss: 0.3548 - val_accuracy: 0.8542\n",
      "Epoch 87/100\n",
      "54/54 [==============================] - 0s 2ms/step - loss: 0.3305 - accuracy: 0.8651 - val_loss: 0.3546 - val_accuracy: 0.8550\n",
      "Epoch 88/100\n",
      "54/54 [==============================] - 0s 2ms/step - loss: 0.3303 - accuracy: 0.8649 - val_loss: 0.3546 - val_accuracy: 0.8538\n",
      "Epoch 89/100\n",
      "54/54 [==============================] - 0s 2ms/step - loss: 0.3302 - accuracy: 0.8645 - val_loss: 0.3546 - val_accuracy: 0.8546\n",
      "Epoch 90/100\n",
      "54/54 [==============================] - 0s 2ms/step - loss: 0.3300 - accuracy: 0.8653 - val_loss: 0.3543 - val_accuracy: 0.8550\n",
      "Epoch 91/100\n",
      "54/54 [==============================] - 0s 2ms/step - loss: 0.3298 - accuracy: 0.8649 - val_loss: 0.3543 - val_accuracy: 0.8546\n",
      "Epoch 92/100\n",
      "54/54 [==============================] - 0s 2ms/step - loss: 0.3297 - accuracy: 0.8640 - val_loss: 0.3544 - val_accuracy: 0.8542\n",
      "Epoch 93/100\n",
      "54/54 [==============================] - 0s 2ms/step - loss: 0.3296 - accuracy: 0.8640 - val_loss: 0.3544 - val_accuracy: 0.8542\n",
      "Epoch 94/100\n",
      "54/54 [==============================] - 0s 2ms/step - loss: 0.3294 - accuracy: 0.8643 - val_loss: 0.3543 - val_accuracy: 0.8546\n",
      "Epoch 95/100\n",
      "54/54 [==============================] - 0s 2ms/step - loss: 0.3292 - accuracy: 0.8643 - val_loss: 0.3541 - val_accuracy: 0.8546\n",
      "Epoch 96/100\n",
      "54/54 [==============================] - 0s 2ms/step - loss: 0.3291 - accuracy: 0.8636 - val_loss: 0.3543 - val_accuracy: 0.8550\n",
      "Epoch 97/100\n",
      "54/54 [==============================] - 0s 2ms/step - loss: 0.3289 - accuracy: 0.8649 - val_loss: 0.3543 - val_accuracy: 0.8542\n",
      "Epoch 98/100\n",
      "54/54 [==============================] - 0s 2ms/step - loss: 0.3287 - accuracy: 0.8645 - val_loss: 0.3540 - val_accuracy: 0.8550\n",
      "Epoch 99/100\n",
      "54/54 [==============================] - 0s 2ms/step - loss: 0.3288 - accuracy: 0.8640 - val_loss: 0.3541 - val_accuracy: 0.8538\n",
      "Epoch 100/100\n",
      "54/54 [==============================] - 0s 2ms/step - loss: 0.3286 - accuracy: 0.8649 - val_loss: 0.3540 - val_accuracy: 0.8542\n"
     ]
    }
   ],
   "source": [
    "# Fitting the ANN to the Training set\n",
    "model_history=classifier.fit(X_train, y_train,validation_split=0.33, batch_size = 100,epochs = 100,callbacks = [histories])"
   ]
  },
  {
   "cell_type": "code",
   "execution_count": 130,
   "metadata": {},
   "outputs": [
    {
     "data": {
      "text/plain": [
       "dict_keys(['loss', 'accuracy', 'val_loss', 'val_accuracy'])"
      ]
     },
     "execution_count": 130,
     "metadata": {},
     "output_type": "execute_result"
    }
   ],
   "source": [
    "model_history.history.keys()"
   ]
  },
  {
   "cell_type": "code",
   "execution_count": 131,
   "metadata": {},
   "outputs": [],
   "source": [
    "import matplotlib.pyplot as plt "
   ]
  },
  {
   "cell_type": "code",
   "execution_count": 132,
   "metadata": {},
   "outputs": [
    {
     "name": "stdout",
     "output_type": "stream",
     "text": [
      "dict_keys(['loss', 'accuracy', 'val_loss', 'val_accuracy'])\n"
     ]
    },
    {
     "data": {
      "image/png": "[encoded data removed]",
      "text/plain": [
       "<Figure size 432x288 with 1 Axes>"
      ]
     },
     "metadata": {
      "needs_background": "light"
     },
     "output_type": "display_data"
    }
   ],
   "source": [
    "# list all data in history\n",
    "\n",
    "print(model_history.history.keys())\n",
    "# summarize history for accuracy\n",
    "plt.plot(model_history.history['accuracy'])\n",
    "plt.plot(model_history.history['val_accuracy'])\n",
    "plt.title('model accuracy')\n",
    "plt.ylabel('accuracy')\n",
    "plt.xlabel('epoch')\n",
    "plt.legend(['train', 'test'], loc='upper left')\n",
    "plt.show()"
   ]
  },
  {
   "cell_type": "code",
   "execution_count": 133,
   "metadata": {},
   "outputs": [
    {
     "data": {
      "image/png": "[encoded data removed]",
      "text/plain": [
       "<Figure size 432x288 with 1 Axes>"
      ]
     },
     "metadata": {
      "needs_background": "light"
     },
     "output_type": "display_data"
    }
   ],
   "source": [
    "# summarize history for loss\n",
    "plt.plot(model_history.history['loss'])\n",
    "plt.plot(model_history.history['val_loss'])\n",
    "plt.title('model loss')\n",
    "plt.ylabel('loss')\n",
    "plt.xlabel('epoch')\n",
    "plt.legend(['train', 'test'], loc='upper left')\n",
    "plt.show()"
   ]
  },
  {
   "cell_type": "code",
   "execution_count": 167,
   "metadata": {},
   "outputs": [
    {
     "name": "stdout",
     "output_type": "stream",
     "text": [
      "63/63 [==============================] - 0s 1ms/step\n"
     ]
    }
   ],
   "source": [
    "# Predicting the Test set results\n",
    "y_pred = classifier.predict(X_test)\n",
    "y_pred = (y_pred > 0.5)"
   ]
  },
  {
   "cell_type": "code",
   "execution_count": 168,
   "metadata": {},
   "outputs": [
    {
     "data": {
      "text/plain": [
       "array([[False],\n",
       "       [False],\n",
       "       [False],\n",
       "       ...,\n",
       "       [False],\n",
       "       [False],\n",
       "       [False]])"
      ]
     },
     "execution_count": 168,
     "metadata": {},
     "output_type": "execute_result"
    }
   ],
   "source": [
    "y_pred"
   ]
  },
  {
   "cell_type": "code",
   "execution_count": 169,
   "metadata": {},
   "outputs": [],
   "source": [
    "# Making the Confusion Matrix\n",
    "from sklearn.metrics import confusion_matrix\n",
    "cm = confusion_matrix(y_test, y_pred)"
   ]
  },
  {
   "cell_type": "code",
   "execution_count": 170,
   "metadata": {},
   "outputs": [],
   "source": [
    "# Calculate the Accuracy\n",
    "from sklearn.metrics import accuracy_score\n",
    "score=accuracy_score(y_pred,y_test)"
   ]
  },
  {
   "cell_type": "code",
   "execution_count": 171,
   "metadata": {},
   "outputs": [
    {
     "data": {
      "text/plain": [
       "0.8585"
      ]
     },
     "execution_count": 171,
     "metadata": {},
     "output_type": "execute_result"
    }
   ],
   "source": [
    "score"
   ]
  },
  {
   "cell_type": "code",
   "execution_count": null,
   "metadata": {},
   "outputs": [],
   "source": []
  },
  {
   "cell_type": "code",
   "execution_count": null,
   "metadata": {},
   "outputs": [],
   "source": []
  },
  {
   "cell_type": "code",
   "execution_count": null,
   "metadata": {},
   "outputs": [],
   "source": []
  },
  {
   "cell_type": "code",
   "execution_count": null,
   "metadata": {},
   "outputs": [],
   "source": []
  }
 ],
 "metadata": {
  "kernelspec": {
   "display_name": "Python 3",
   "language": "python",
   "name": "python3"
  },
  "language_info": {
   "codemirror_mode": {
    "name": "ipython",
    "version": 3
   },
   "file_extension": ".py",
   "mimetype": "text/x-python",
   "name": "python",
   "nbconvert_exporter": "python",
   "pygments_lexer": "ipython3",
   "version": "3.8.10"
  }
 },
 "nbformat": 4,
 "nbformat_minor": 2
}
