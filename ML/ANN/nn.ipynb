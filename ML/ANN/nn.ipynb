version https://git-lfs.github.com/spec/v1
oid sha256:37c1350f3e31a63eef52e8a6462f8dd5a2ce1b2096922c006d537c64103edbcf
size 69456
